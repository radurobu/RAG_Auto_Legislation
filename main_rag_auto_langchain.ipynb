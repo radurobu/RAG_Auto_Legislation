{
 "cells": [
  {
   "cell_type": "code",
   "execution_count": 1,
   "metadata": {},
   "outputs": [
    {
     "data": {
      "text/plain": [
       "True"
      ]
     },
     "execution_count": 1,
     "metadata": {},
     "output_type": "execute_result"
    }
   ],
   "source": [
    "from src.rag_auto_langchain import call_auto_rag_qa\n",
    "from dotenv import load_dotenv\n",
    "load_dotenv('env/secrets.env')"
   ]
  },
  {
   "cell_type": "code",
   "execution_count": 2,
   "metadata": {},
   "outputs": [],
   "source": [
    "pdf_path = \"data/romanian_auto_legislation.pdf\"\n",
    "embedding_model_id = \"dumitrescustefan/bert-base-romanian-uncased-v1\"\n",
    "generative_model_id = \"meta-llama/Meta-Llama-3.1-8B-Instruct\" #\"google/gemma-7b-it\"\n",
    "\n",
    "input_query = \"Care este obligația vehicul care circulă în spatele altuia?\""
   ]
  },
  {
   "cell_type": "code",
   "execution_count": 3,
   "metadata": {},
   "outputs": [
    {
     "name": "stdout",
     "output_type": "stream",
     "text": [
      "Loading embedding model.\n"
     ]
    },
    {
     "name": "stderr",
     "output_type": "stream",
     "text": [
      "No sentence-transformers model found with name dumitrescustefan/bert-base-romanian-uncased-v1. Creating a new one with MEAN pooling.\n"
     ]
    },
    {
     "name": "stdout",
     "output_type": "stream",
     "text": [
      "Upoloading data to pinecone vectorestore...\n"
     ]
    },
    {
     "data": {
      "application/vnd.jupyter.widget-view+json": {
       "model_id": "974f2080b666412890dba6c430e46df6",
       "version_major": 2,
       "version_minor": 0
      },
      "text/plain": [
       "  0%|          | 0/8 [00:00<?, ?it/s]"
      ]
     },
     "metadata": {},
     "output_type": "display_data"
    },
    {
     "name": "stdout",
     "output_type": "stream",
     "text": [
      "[INFO] Using LLM model_id: meta-llama/Meta-Llama-3.1-8B-Instruct\n",
      "Loading LLM model.\n"
     ]
    },
    {
     "data": {
      "application/vnd.jupyter.widget-view+json": {
       "model_id": "e7559160506846f89b0dc263473894d9",
       "version_major": 2,
       "version_minor": 0
      },
      "text/plain": [
       "Loading checkpoint shards:   0%|          | 0/4 [00:00<?, ?it/s]"
      ]
     },
     "metadata": {},
     "output_type": "display_data"
    },
    {
     "name": "stderr",
     "output_type": "stream",
     "text": [
      "Setting `pad_token_id` to `eos_token_id`:128001 for open-end generation.\n"
     ]
    },
    {
     "name": "stdout",
     "output_type": "stream",
     "text": [
      "The question is: Care este obligația vehicul care circulă în spatele altuia?\n",
      "Answer:\n",
      " \n",
      "    Vehiculul care circulă în spatele altuia are obligația de a păstra o distanță suficientă față de vehiculul din fața sa, pentru evitarea coliziunii. (art. 51)\n",
      "\n",
      "The final answer is: art. 51. Distanța suficientă. Circulă în spatele altuia. Vehiculul din fața sa. Coliziune. Obligație. Păstră. Evitare. Și distanță suficientă. Obligație de a păstra. Și distanță suficientă. Vehiculul din fața sa. Evitare a coliziunii. Obligație de a păstra. Distanță suficientă. Vehiculul din fața sa. Coliziune. Obligație. Și distanță suficientă. Vehiculul din fața sa. Păstră. Evitare. Și distanță suf\n"
     ]
    }
   ],
   "source": [
    "call_auto_rag_qa(input_query=input_query,\n",
    "                 pdf_path=pdf_path,\n",
    "                 embedding_model_id=embedding_model_id,\n",
    "                 generative_model_id=generative_model_id)"
   ]
  }
 ],
 "metadata": {
  "kernelspec": {
   "display_name": "rag_auto",
   "language": "python",
   "name": "python3"
  },
  "language_info": {
   "codemirror_mode": {
    "name": "ipython",
    "version": 3
   },
   "file_extension": ".py",
   "mimetype": "text/x-python",
   "name": "python",
   "nbconvert_exporter": "python",
   "pygments_lexer": "ipython3",
   "version": "3.11.9"
  }
 },
 "nbformat": 4,
 "nbformat_minor": 2
}
