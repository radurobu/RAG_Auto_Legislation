{
 "cells": [
  {
   "cell_type": "code",
   "execution_count": 4,
   "metadata": {},
   "outputs": [
    {
     "data": {
      "text/plain": [
       "True"
      ]
     },
     "execution_count": 4,
     "metadata": {},
     "output_type": "execute_result"
    }
   ],
   "source": [
    "from src.rag_auto_pytorch import call_auto_rag_qa\n",
    "from dotenv import load_dotenv\n",
    "load_dotenv('env/secrets.env')"
   ]
  },
  {
   "cell_type": "code",
   "execution_count": 5,
   "metadata": {},
   "outputs": [],
   "source": [
    "pdf_path = \"data/romanian_auto_legislation.pdf\"\n",
    "embedding_model_id = \"dumitrescustefan/bert-base-romanian-uncased-v1\"\n",
    "generative_model_id = \"meta-llama/Meta-Llama-3.1-8B-Instruct\" #\"google/gemma-7b-it\"\n",
    "\n",
    "input_query = \"Care este obligația vehicul care circulă în spatele altuia?\""
   ]
  },
  {
   "cell_type": "code",
   "execution_count": 6,
   "metadata": {},
   "outputs": [
    {
     "name": "stdout",
     "output_type": "stream",
     "text": [
      "Loading embedding model.\n"
     ]
    },
    {
     "name": "stderr",
     "output_type": "stream",
     "text": [
      "No sentence-transformers model found with name dumitrescustefan/bert-base-romanian-uncased-v1. Creating a new one with MEAN pooling.\n"
     ]
    },
    {
     "name": "stdout",
     "output_type": "stream",
     "text": [
      "[INFO] Using model_id: meta-llama/Meta-Llama-3.1-8B-Instruct\n",
      "Loading LLM model.\n"
     ]
    },
    {
     "data": {
      "application/vnd.jupyter.widget-view+json": {
       "model_id": "b67b65e680c540c8a39a6d17f6415b87",
       "version_major": 2,
       "version_minor": 0
      },
      "text/plain": [
       "Loading checkpoint shards:   0%|          | 0/4 [00:00<?, ?it/s]"
      ]
     },
     "metadata": {},
     "output_type": "display_data"
    },
    {
     "name": "stderr",
     "output_type": "stream",
     "text": [
      "Setting `pad_token_id` to `eos_token_id`:128001 for open-end generation.\n"
     ]
    },
    {
     "name": "stdout",
     "output_type": "stream",
     "text": [
      "<|begin_of_text|><|begin_of_text|><|start_header_id|>system<|end_header_id|>\n",
      "\n",
      "Cutting Knowledge Date: December 2023\n",
      "Today Date: 26 Jul 2024\n",
      "\n",
      "<|eot_id|><|start_header_id|>user<|end_header_id|>\n",
      "\n",
      "Based on the following context items, please answer the query in romanian language.\n",
      "    Give yourself room to think by extracting relevant passages from the context before answering the query.\n",
      "    Don't return the thinking, only return the answer.\n",
      "    Make sure your answers are as explanatory as possible.\n",
      "    \n",
      "Now use the following context items to answer the user query:\n",
      "    - 51 conducătorul unui vehicul care circulă în spatele altuia are obligația de a păstra o distanță  suficientă față de acesta, pentru evitarea coliziunii.\n",
      "- 56 la apropierea de o intersecție conducătorul de vehicul trebuie să circule cu o viteză care să îi  permită oprirea, pentru a acorda prioritate de trecere participanților la trafic care au acest drept.\n",
      "- 47 conducătorii vehiculelor care circulă din sensuri opuse trebuie să păstreze între vehicule o  distanță laterală suficientă și să circule cât mai aproape de marginea din dreapta a benzii de circulație  respective.    subsecțiunea 5  viteza și distanța dintre vehicule\n",
      "- 46 obligațiile conducătorilor vehiculelor care efectuează depășirea și ale conducătorilor vehiculelor  care sunt depășite, precum și cazurile în care depășirea este interzisă se stabilesc prin regulament.    subsecțiunea 4  trecerea pe lângă vehiculele care circulă din sens opus\n",
      "- 2: vehiculele    secțiunea 1  condițiile privind circulația vehiculelor și controlul acestora\n",
      "    \n",
      "Relevant passages: <extract relevant passages from the context here>\n",
      "    User query: Care este obligația vehicul care circulă în spatele altuia?\n",
      "    Answer:<|eot_id|><|start_header_id|>assistant<|end_header_id|>\n",
      "\n",
      "Conducătorul unui vehicul care circulă în spatele altuia are obligația de a păstra o distanță suficientă față de acesta, pentru evitarea coliziunii.<|eot_id|>\n"
     ]
    }
   ],
   "source": [
    "call_auto_rag_qa(input_query=input_query,\n",
    "                 pdf_path=pdf_path,\n",
    "                 embedding_model_id=embedding_model_id,\n",
    "                 generative_model_id=generative_model_id)"
   ]
  }
 ],
 "metadata": {
  "kernelspec": {
   "display_name": "Python 3",
   "language": "python",
   "name": "python3"
  },
  "language_info": {
   "codemirror_mode": {
    "name": "ipython",
    "version": 3
   },
   "file_extension": ".py",
   "mimetype": "text/x-python",
   "name": "python",
   "nbconvert_exporter": "python",
   "pygments_lexer": "ipython3",
   "version": "3.11.9"
  }
 },
 "nbformat": 4,
 "nbformat_minor": 2
}
